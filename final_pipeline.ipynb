{
 "cells": [
  {
   "cell_type": "code",
   "execution_count": 1,
   "metadata": {},
   "outputs": [],
   "source": [
    "import os\n",
    "import numpy as np\n",
    "import mne\n",
    "import matplotlib.pyplot as plt\n",
    "import matplotlib.backends.backend_pdf\n",
    "import glob\n",
    "from autoreject import AutoReject, get_rejection_threshold"
   ]
  },
  {
   "cell_type": "code",
   "execution_count": 5,
   "metadata": {},
   "outputs": [],
   "source": [
    "subjs_all = glob.glob('./EEG/Revcor*.vhdr')"
   ]
  },
  {
   "cell_type": "code",
   "execution_count": 6,
   "metadata": {},
   "outputs": [
    {
     "data": {
      "text/plain": [
       "['./EEG\\\\Revcor0006.vhdr',\n",
       " './EEG\\\\Revcor0007.vhdr',\n",
       " './EEG\\\\Revcor0011.vhdr',\n",
       " './EEG\\\\Revcor0012.vhdr',\n",
       " './EEG\\\\Revcor0015.vhdr',\n",
       " './EEG\\\\Revcor0016.vhdr',\n",
       " './EEG\\\\Revcor0017.vhdr',\n",
       " './EEG\\\\Revcor0018.vhdr',\n",
       " './EEG\\\\Revcor0019.vhdr',\n",
       " './EEG\\\\Revcor0020.vhdr']"
      ]
     },
     "execution_count": 6,
     "metadata": {},
     "output_type": "execute_result"
    }
   ],
   "source": [
    "subjs_all"
   ]
  },
  {
   "cell_type": "code",
   "execution_count": null,
   "metadata": {},
   "outputs": [],
   "source": [
    "def get_raw(subj):\n",
    "    raw = mne.io.read_raw_brainvision(subj, verbose=False)\n",
    "    return raw"
   ]
  },
  {
   "cell_type": "code",
   "execution_count": null,
   "metadata": {},
   "outputs": [],
   "source": [
    "def rename_channels(raw, channel_names):\n",
    "    channel_names_old = raw.ch_names\n",
    "    channel_dict = dict(zip(channel_names_old, channel_names))\n",
    "    mne.rename_channels(raw.info, mapping=channel_dict)"
   ]
  },
  {
   "cell_type": "code",
   "execution_count": null,
   "metadata": {},
   "outputs": [],
   "source": [
    "def make_montage(raw, montage):\n",
    "    # Use the preloaded montage\n",
    "    raw.set_montage(montage)\n",
    "    raw.plot_sensors(show_names=True)"
   ]
  },
  {
   "cell_type": "code",
   "execution_count": null,
   "metadata": {},
   "outputs": [],
   "source": [
    "def get_events(raw):\n",
    "    events_from_annot, event_dict = mne.events_from_annotations(raw)\n",
    "\n",
    "    # Get indices of R11 events with event code 1011 or New Segment indices with event code 99999 and delete them\n",
    "    useless_events = list(filter(lambda i: events_from_annot[:, 2][i] == 99999 or events_from_annot[:, 2][i] == 1011 or events_from_annot[:, 2][i] == 2 or events_from_annot[:, 2][i] == 6, range(len(events_from_annot[:, 2]))))\n",
    "    events = np.delete(events_from_annot, useless_events, 0)\n",
    "\n",
    "    for i in range(len(events[:, 2])):\n",
    "        if events[:, 2][i] == 1004 or events[:, 2][i] == 1008:\n",
    "            events[:, 2][i] = 1001\n",
    "        elif  events[:, 2][i] == 1012:\n",
    "            events[:, 2][i] = 1002\n",
    "        elif events[:, 2][i] == 1024:\n",
    "            events[:, 2][i] = 1003\n",
    "        elif events[:, 2][i] == 1028:\n",
    "            events[:, 2][i] = 1004\n",
    "\n",
    "    return events"
   ]
  },
  {
   "cell_type": "code",
   "execution_count": null,
   "metadata": {},
   "outputs": [],
   "source": [
    "def create_stim_channel(raw, events):\n",
    "    raw.load_data()\n",
    "    stim_data = np.zeros((1, len(raw.times)))\n",
    "\n",
    "    # Add stimulus channel in 'raw' object's info class\n",
    "    info = mne.create_info(['STI'], raw.info['sfreq'], ['stim'])\n",
    "    stim_raw = mne.io.RawArray(stim_data, info)\n",
    "    raw.add_channels([stim_raw], force_update_info=True)\n",
    "\n",
    "    # Add events extracted from annotations to the stimulus channel\n",
    "    raw.add_events(events, stim_channel='STI')"
   ]
  },
  {
   "cell_type": "code",
   "execution_count": null,
   "metadata": {},
   "outputs": [],
   "source": [
    "def crop_data(raw, t_from, t_to):\n",
    "    first_event_time = mne.find_events(raw)[0][0]\n",
    "    last_event_time = mne.find_events(raw)[-1][0]\n",
    "    print(first_event_time, ' ', last_event_time)\n",
    "\n",
    "    part_to_remove_from_beginning = (first_event_time - abs(t_from*500))/1000\n",
    "    part_to_remove_from_end = (last_event_time + abs(t_to*5000))/1000\n",
    "    raw.crop(part_to_remove_from_beginning, part_to_remove_from_end)"
   ]
  },
  {
   "cell_type": "code",
   "execution_count": null,
   "metadata": {},
   "outputs": [],
   "source": [
    "def apply_filter(raw):\n",
    "    # Soft bandpass Butterworth filter \n",
    "    iir_params = dict(  order=2, \n",
    "                        ftype='butter', \n",
    "                        output='sos'\n",
    "                    )\n",
    "    iir_params = mne.filter.construct_iir_filter(   iir_params, \n",
    "                                                    f_pass=[0.1, 30], \n",
    "                                                    f_stop=None, \n",
    "                                                    sfreq=1000, \n",
    "                                                    btype='bandpass', \n",
    "                                                    return_copy=False\n",
    "                                                )\n",
    "    raw.filter(0.1, 30, method='iir', iir_params=iir_params)\n",
    "\n",
    "    # Notch filter\n",
    "    raw.notch_filter(   freqs=np.arange(50, 251, 50), \n",
    "                        method='fir', \n",
    "                        fir_design='firwin2'\n",
    "                    )"
   ]
  },
  {
   "cell_type": "code",
   "execution_count": null,
   "metadata": {},
   "outputs": [],
   "source": [
    "def add_ref_ch(raw, ref_channel):\n",
    "    mne.add_reference_channels(raw, ref_channel, copy=False)"
   ]
  },
  {
   "cell_type": "code",
   "execution_count": null,
   "metadata": {},
   "outputs": [],
   "source": [
    "def re_reference(raw, ref_method):\n",
    "    mne.set_eeg_reference(raw, ref_channels=ref_method, projection=True)\n",
    "    raw.apply_proj()"
   ]
  },
  {
   "cell_type": "code",
   "execution_count": null,
   "metadata": {},
   "outputs": [],
   "source": [
    "def create_epochs(raw, events, epoch_limits):\n",
    "    # Don't baseline correct before ICA\n",
    "    epochs = mne.Epochs(raw, events, tmin=epoch_limits[0], tmax=epoch_limits[1], preload=True, baseline=None)\n",
    "    \n",
    "    return epochs"
   ]
  },
  {
   "cell_type": "code",
   "execution_count": null,
   "metadata": {},
   "outputs": [],
   "source": [
    "def run_autoreject(epochs):\n",
    "    ar = AutoReject(n_interpolate=[1, 2, 3, 4], random_state=11, n_jobs=1, verbose=True)\n",
    "    ar.fit(epochs) \n",
    "    epochs_ar, reject_log = ar.transform(epochs, return_log=True)\n",
    "\n",
    "    return epochs_ar, reject_log"
   ]
  },
  {
   "cell_type": "code",
   "execution_count": null,
   "metadata": {},
   "outputs": [],
   "source": [
    "def run_ica(epochs, reject_log, eog_proxy):\n",
    "    ica = mne.preprocessing.ICA(random_state=99)\n",
    "    ica.fit(epochs[~reject_log.bad_epochs])\n",
    "\n",
    "    # Find which ICs match the EOG pattern\n",
    "    eog_indices, eog_scores = ica.find_bads_eog(epochs[~reject_log.bad_epochs], ch_name=eog_proxy)\n",
    "    print(f'**************** Automatically found EOG artifact ICA components: {eog_indices} ****************')\n",
    "\n",
    "    # # Find which ICs match the EMG pattern\n",
    "    # muscle_idx_auto, scores = ica.find_bads_muscle(epochs[~reject_log.bad_epochs])\n",
    "    # print(f'**************** Automatically found muscle artifact ICA components: {muscle_idx_auto} ****************')\n",
    "\n",
    "    ica.exclude = eog_indices\n",
    "\n",
    "    ica.plot_overlay(epochs.average(), exclude=ica.exclude)\n",
    "    ica.apply(epochs, exclude=ica.exclude)"
   ]
  },
  {
   "cell_type": "code",
   "execution_count": null,
   "metadata": {},
   "outputs": [],
   "source": [
    "def baseline_correction(epochs, baseline):\n",
    "    epochs.apply_baseline(baseline=baseline)"
   ]
  },
  {
   "cell_type": "code",
   "execution_count": null,
   "metadata": {},
   "outputs": [],
   "source": [
    "def save_epochs(epochs, subj):\n",
    "    epochs.save('./analysis/'+subj[6:16]+'-epo.fif', overwrite=True)"
   ]
  },
  {
   "cell_type": "code",
   "execution_count": null,
   "metadata": {},
   "outputs": [],
   "source": [
    "def create_evokeds(epochs, subj):\n",
    "    # Create Evoked object from epochs (an Evoked object contains the average data over all epochs)\n",
    "    evoked_standard = epochs['1001'].average()\n",
    "    evoked_neutral = epochs['1002'].average()\n",
    "    evoked_rise = epochs['1003'].average()\n",
    "    evoked_fall = epochs['1004'].average()\n",
    "\n",
    "    mne.write_evokeds('./analysis/'+subj[17:19]+'-ave.fif', [evoked_standard, evoked_neutral, evoked_rise, evoked_fall], overwrite=True)\n",
    "\n",
    "    evokeds = dict(standard=evoked_standard, neutral=evoked_neutral, rise=evoked_rise, fall=evoked_fall)\n",
    "\n",
    "    return evokeds"
   ]
  },
  {
   "cell_type": "code",
   "execution_count": null,
   "metadata": {},
   "outputs": [],
   "source": [
    "def plot_erps(evokeds, subj, channels):\n",
    "    # Create PDF file in which to save all plots\n",
    "    with matplotlib.backends.backend_pdf.PdfPages('./analysis/'+subj[6:16]+'-plots.pdf') as pdf:\n",
    "    \n",
    "        for channel in channels:\n",
    "            fig = mne.viz.plot_compare_evokeds(evokeds, picks=channel, combine=None, time_unit='ms', ylim=dict(eeg=[-10, 10]), invert_y=True,\n",
    "                                            colors=dict(standard='black', neutral='red', rise='blue', fall='green'), \n",
    "                                            styles={'standard': {'linewidth': 1}, 'neutral': {'linewidth': 1}, 'rise': {'linewidth': 1}, 'fall': {'linewidth': 1}})\n",
    "            # Save plot to PDF\n",
    "            pdf.savefig(fig[0])\n",
    "            plt.close()"
   ]
  },
  {
   "cell_type": "code",
   "execution_count": null,
   "metadata": {},
   "outputs": [],
   "source": [
    "data_dir = './eeg_data/rise'\n",
    "channel_names = [\n",
    "                    'Fp1','Fz','F3','F7','FT9','FC5','FC1','C3','T7','TP9','CP5','CP1','Pz','P3','P7','O1','Oz','O2','P4','P8','TP10','CP6',\n",
    "                    'CP2','C4','T8','FT10','FC6','FC2','F4','F8','Fp2', 'AF7','AF3','AFz','F1','F5','FT7','FC3','C1','C5','TP7','CP3','P1','P5',\n",
    "                    'PO7','PO3','POz','PO4','PO8','P6','P2','CPz','CP4','TP8','C6','C2','FC4','FT8','F6','AF8','AF4','F2','FCz', 'Cz'\n",
    "                ]\n",
    "montage = mne.channels.make_standard_montage('easycap-M1')\n",
    "epoch_limits = [-0.1, 0.6]\n",
    "baseline = (-0.1, 0)\n",
    "ref_channel = 'Cz'\n",
    "reref = 'average'\n",
    "channels_to_vis = ['Fz', 'Pz', 'Oz', 'AFz', 'POz', 'CPz', 'FCz', 'Cz']\n",
    "output_dir = './analysis/'"
   ]
  },
  {
   "cell_type": "code",
   "execution_count": null,
   "metadata": {},
   "outputs": [],
   "source": [
    "for subj in subjs_all:\n",
    "    raw = get_raw(subj)\n",
    "\n",
    "    rename_channels(raw, channel_names)\n",
    "    \n",
    "    make_montage(raw, montage)\n",
    "\n",
    "    events = get_events(raw)\n",
    "    create_stim_channel(raw, events)\n",
    "\n",
    "    crop_data(raw, epoch_limits[0], epoch_limits[1])\n",
    "\n",
    "    apply_filter(raw)\n",
    "\n",
    "    add_ref_ch(raw, ref_channel)\n",
    "    re_reference(raw, reref)\n",
    "\n",
    "    make_montage(raw, montage)\n",
    "\n",
    "    epochs = create_epochs(raw, events, epoch_limits)\n",
    "\n",
    "    epochs_ar, reject_log = run_autoreject(epochs)\n",
    "    run_ica(epochs, reject_log, 'Fp1')\n",
    "    baseline_correction(epochs, baseline)\n",
    "    epochs_ar = run_autoreject(epochs)\n",
    "\n",
    "    save_epochs(epochs_ar, subj)\n",
    "\n",
    "    evokeds = create_evokeds(epochs_ar, subj)\n",
    "    \n",
    "    plot_erps(evokeds, subj, )"
   ]
  }
 ],
 "metadata": {
  "kernelspec": {
   "display_name": "Python 3.10.8 ('eelbrain')",
   "language": "python",
   "name": "python3"
  },
  "language_info": {
   "codemirror_mode": {
    "name": "ipython",
    "version": 3
   },
   "file_extension": ".py",
   "mimetype": "text/x-python",
   "name": "python",
   "nbconvert_exporter": "python",
   "pygments_lexer": "ipython3",
   "version": "3.10.8"
  },
  "orig_nbformat": 4,
  "vscode": {
   "interpreter": {
    "hash": "99ceff474ddd88436593420339e3865c681551bf0bfe21dd21eebadbb2bc8b2e"
   }
  }
 },
 "nbformat": 4,
 "nbformat_minor": 2
}
