{
 "cells": [
  {
   "cell_type": "code",
   "execution_count": null,
   "metadata": {},
   "outputs": [],
   "source": [
    "import numpy as np\n",
    "import matplotlib.pyplot as plt\n",
    "import librosa\n",
    "from librosa import display\n",
    "from scipy import interpolate\n",
    "import glob\n",
    "import mne\n",
    "from eelbrain import *\n",
    "import os\n",
    "import pandas as pd\n",
    "\n",
    "# configure(n_workers=False)"
   ]
  },
  {
   "cell_type": "markdown",
   "metadata": {},
   "source": [
    "#### Get envelope"
   ]
  },
  {
   "cell_type": "code",
   "execution_count": null,
   "metadata": {},
   "outputs": [],
   "source": [
    "def get_pitch_envelope(audio_file, time_arr, pitch_arr, sr):\n",
    "\n",
    "    stim, sr = librosa.load(audio_file, sr=sr)\n",
    "\n",
    "    T = 1/sr  # period\n",
    "    ts = np.arange(0, len(stim)/sr, T)\n",
    "\n",
    "    spl = interpolate.UnivariateSpline(time_arr, pitch_arr)\n",
    "    interp_pitch = spl(ts)\n",
    "\n",
    "    e = np.pad(interp_pitch, pad_width=(100, (701 - (len(stim)+100))))\n",
    "    e = e.astype('<f8')\n",
    "    e = np.where(np.isfinite(e), e, 0)\n",
    "\n",
    "    return e"
   ]
  },
  {
   "cell_type": "markdown",
   "metadata": {},
   "source": [
    "#### Create dataset"
   ]
  },
  {
   "cell_type": "code",
   "execution_count": null,
   "metadata": {},
   "outputs": [],
   "source": [
    "epoch_files = sorted(glob.glob('./analysis/Revcor*-epo.fif'))\n",
    "log_files = sorted(glob.glob('./log/trials_subj*.csv'))\n",
    "\n",
    "es_dict = dict(zip(epoch_files, log_files))\n",
    "del es_dict['./analysis\\\\Revcor0019-epo.fif']\n",
    "del es_dict['./analysis\\\\Revcor0006-epo.fif']"
   ]
  },
  {
   "cell_type": "code",
   "execution_count": null,
   "metadata": {},
   "outputs": [],
   "source": [
    "tstep = 1. / 1000\n",
    "n_times = 701\n",
    "time = UTS(0, tstep, n_times)\n",
    "\n",
    "sensor = Sensor.from_montage('easycap-M1')[:64]\n",
    "\n",
    "rows = []\n",
    "\n",
    "for k, v in es_dict.items():\n",
    "    subj = mne.read_epochs(k)\n",
    "    subj = subj.drop_channels('STI')\n",
    "\n",
    "    df = pd.read_csv(v, encoding='latin')\n",
    "    df = df[df['stim_id_marker'].isin(subj.selection)]  \n",
    "    df = df[df['stim_type'] != 'standard'] \n",
    "\n",
    "    uniq_trials = np.unique([i for i in df['trial_number']])\n",
    "    for j in uniq_trials:\n",
    "\n",
    "        subject = int(k[17:21])\n",
    "\n",
    "        eeg = NDVar(subj[str(j)].get_data()[0].T, (time, sensor), name='EEG', info={'unit': 'µV'})\n",
    "\n",
    "        sound = df[df['trial_number'] == j]['sound_file'].iloc[0]\n",
    "        df_epoch = df.loc[df['stim_id_marker'] == j]\n",
    "        times_arr = df_epoch['t'].to_numpy()\n",
    "        pitch_arr = df_epoch['rms'].to_numpy()\n",
    "\n",
    "        e = get_pitch_envelope(sound, times_arr, pitch_arr, sr=1000)\n",
    "        envelope = NDVar(e, (time,), name='envelope')\n",
    "        \n",
    "        rows.append([subject, eeg, envelope]) \n",
    "\n",
    "ds = Dataset.from_caselist(['subject', 'eeg', 'envelope'], rows)\n",
    "ds['subject'].random = True\n",
    "print(ds.summary())"
   ]
  },
  {
   "attachments": {},
   "cell_type": "markdown",
   "metadata": {},
   "source": [
    "#### Save dataset"
   ]
  },
  {
   "cell_type": "code",
   "execution_count": null,
   "metadata": {},
   "outputs": [],
   "source": [
    "ds.save()"
   ]
  },
  {
   "attachments": {},
   "cell_type": "markdown",
   "metadata": {},
   "source": [
    "#### Load dataset"
   ]
  },
  {
   "cell_type": "code",
   "execution_count": null,
   "metadata": {},
   "outputs": [],
   "source": [
    "ds = load.unpickle('./datasets/dataset_pitch_excl_6_19.pickle')"
   ]
  },
  {
   "cell_type": "markdown",
   "metadata": {},
   "source": [
    "#### Compute TRF"
   ]
  },
  {
   "cell_type": "code",
   "execution_count": null,
   "metadata": {},
   "outputs": [],
   "source": [
    "tstep = 1. / 1000\n",
    "n_times = 701\n",
    "time = UTS(0, tstep, n_times)\n",
    "\n",
    "sensor = Sensor.from_montage('easycap-M1')[:64]"
   ]
  },
  {
   "cell_type": "code",
   "execution_count": null,
   "metadata": {},
   "outputs": [],
   "source": [
    "fit = boosting('eeg', 'envelope', 0, 0.600, basis=0.050, ds=ds, delta=0.01, partitions=3, test=1)\n",
    "\n",
    "# Plot TRF\n",
    "p = plot.TopoButterfly(fit.h_scaled, w=6, h=2)\n",
    "p.set_time(.200)"
   ]
  },
  {
   "attachments": {},
   "cell_type": "markdown",
   "metadata": {},
   "source": [
    "#### Save boosting result"
   ]
  },
  {
   "cell_type": "code",
   "execution_count": null,
   "metadata": {},
   "outputs": [],
   "source": [
    "# Save boosting result to predict eeg from envelope\n",
    "env2eeg_fit = save.pickle(fit)"
   ]
  },
  {
   "attachments": {},
   "cell_type": "markdown",
   "metadata": {},
   "source": [
    "#### Load saved result"
   ]
  },
  {
   "cell_type": "code",
   "execution_count": null,
   "metadata": {},
   "outputs": [],
   "source": [
    "res = load.unpickle()"
   ]
  },
  {
   "cell_type": "code",
   "execution_count": null,
   "metadata": {},
   "outputs": [],
   "source": [
    "df = pd.read_csv('./log/trials_subj0006_211026_10.46.csv', encoding='latin')\n",
    "# df = df[df['stim_id_marker'].isin(subj.selection)]  \n",
    "df = df[df['stim_type'] != 'standard'] \n",
    "\n",
    "df_epoch = df.loc[df['stim_id_marker'] == 14]\n",
    "times_arr = df_epoch['t'].to_numpy()\n",
    "pitch_arr = df_epoch['rms'].to_numpy()"
   ]
  },
  {
   "cell_type": "code",
   "execution_count": null,
   "metadata": {},
   "outputs": [],
   "source": [
    "# Predict EEG data from amplitude envelope\n",
    "x = NDVar(get_pitch_envelope('./sounds/subj6/julie_neutral.0736.pitch_gain.wav', times_arr, pitch_arr, sr=1000), (time,))\n",
    "y = convolve(res.h_scaled, x)\n",
    "\n",
    "plot.UTS(y, '.sensor')"
   ]
  },
  {
   "cell_type": "code",
   "execution_count": null,
   "metadata": {},
   "outputs": [],
   "source": [
    "reqd_epoch = mne.read_epochs('./analysis/Revcor0006-epo.fif')\n",
    "reqd_epoch.drop_channels('STI')\n",
    "reqd_eeg = NDVar(reqd_epoch['14'].get_data()[0], (sensor, time), name='EEG', info={'unit': 'µV'})\n",
    "\n",
    "plot.TopoButterfly(y, t=0.3)\n",
    "plot.TopoButterfly(reqd_eeg, t=0.3)\n",
    "\n",
    "# plot.TopoButterfly([y, ds['eeg']], t=0.3)"
   ]
  },
  {
   "attachments": {},
   "cell_type": "markdown",
   "metadata": {},
   "source": [
    "#### Section for experimentation"
   ]
  },
  {
   "cell_type": "code",
   "execution_count": null,
   "metadata": {},
   "outputs": [],
   "source": [
    "# tstep = 1. / 1000\n",
    "# n_times = 701\n",
    "# time = UTS(0, tstep, n_times)\n",
    "\n",
    "# sensor = Sensor.from_montage('easycap-M1')[:64]"
   ]
  },
  {
   "cell_type": "code",
   "execution_count": null,
   "metadata": {},
   "outputs": [],
   "source": [
    "# subj = mne.read_epochs('./analysis/Revcor0007-epo.fif')\n",
    "# subj.drop_channels('STI')\n",
    "\n",
    "# df = pd.read_csv('./log/trials_subj0007_211026_16.27.csv', encoding='latin')\n",
    "# df = df[df['stim_id_marker'].isin(subj.selection)]  \n",
    "# df = df[df['stim_type'] != 'standard'] \n",
    "\n",
    "# rows = []\n",
    "\n",
    "# for i in range(len(subj)):\n",
    "    \n",
    "#     eeg = NDVar(subj[i].get_data()[0].T, (time, sensor), name='EEG', info={'unit': 'µV'})\n",
    "\n",
    "#     sound = df['sound_file'].iloc[i]\n",
    "#     envelope = NDVar(get_envelope(sound, sr=1000), (time,), name='envelope')\n",
    "\n",
    "#     rows.append([eeg, envelope]) \n",
    "\n",
    "# ds = Dataset.from_caselist(['eeg', 'envelope'], rows)\n",
    "# print(ds.summary())"
   ]
  },
  {
   "cell_type": "code",
   "execution_count": null,
   "metadata": {},
   "outputs": [],
   "source": [
    "# fit = boosting('envelope', 'eeg', 0, 0.600, basis=0.050, ds=ds, partitions=2)"
   ]
  },
  {
   "cell_type": "code",
   "execution_count": null,
   "metadata": {},
   "outputs": [],
   "source": [
    "# # Save boosting result to predict envelope from EEG\n",
    "# eeg2env_fit = save.pickle(fit)"
   ]
  },
  {
   "cell_type": "code",
   "execution_count": null,
   "metadata": {},
   "outputs": [],
   "source": [
    "# actual_envelope = NDVar(get_envelope('./sounds/subj6/julie_neutral.0736.pitch_gain.wav', sr=1000), (time,))\n",
    "# plot.UTS(actual_envelope)"
   ]
  },
  {
   "cell_type": "code",
   "execution_count": null,
   "metadata": {},
   "outputs": [],
   "source": [
    "# std_epoch = mne.read_epochs('./analysis/Revcor0006-epo.fif', verbose=False)['14']\n",
    "# std_epoch.drop_channels('STI')"
   ]
  },
  {
   "cell_type": "code",
   "execution_count": null,
   "metadata": {},
   "outputs": [],
   "source": [
    "# # Predict amplitude envelope from EEG data\n",
    "# x = NDVar(std_epoch.get_data()[0].T, (time, sensor))\n",
    "# y = convolve(fit.h_scaled, x, ds=ds)\n",
    "# print(x)\n",
    "# print(y)\n",
    "# plot.UTS(y)"
   ]
  }
 ],
 "metadata": {
  "kernelspec": {
   "display_name": "Python 3.10.8 ('eelbrain')",
   "language": "python",
   "name": "python3"
  },
  "language_info": {
   "codemirror_mode": {
    "name": "ipython",
    "version": 3
   },
   "file_extension": ".py",
   "mimetype": "text/x-python",
   "name": "python",
   "nbconvert_exporter": "python",
   "pygments_lexer": "ipython3",
   "version": "3.10.8 | packaged by conda-forge | (main, Nov 22 2022, 08:16:33) [MSC v.1929 64 bit (AMD64)]"
  },
  "orig_nbformat": 4,
  "vscode": {
   "interpreter": {
    "hash": "99ceff474ddd88436593420339e3865c681551bf0bfe21dd21eebadbb2bc8b2e"
   }
  }
 },
 "nbformat": 4,
 "nbformat_minor": 2
}
