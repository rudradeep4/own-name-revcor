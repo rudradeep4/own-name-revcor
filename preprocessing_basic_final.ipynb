{
 "cells": [
  {
   "cell_type": "code",
   "execution_count": null,
   "metadata": {},
   "outputs": [],
   "source": [
    "import os\n",
    "import numpy as np\n",
    "import mne\n",
    "import matplotlib.pyplot as plt\n",
    "import matplotlib.backends.backend_pdf\n",
    "import glob\n",
    "from autoreject import AutoReject\n",
    "from collections import Counter"
   ]
  },
  {
   "cell_type": "markdown",
   "metadata": {},
   "source": [
    "#### Read Raw Data"
   ]
  },
  {
   "cell_type": "code",
   "execution_count": null,
   "metadata": {},
   "outputs": [],
   "source": [
    "# Read BrainVision EEG data into 'raw' object\n",
    "subj = 'Revcor0006'\n",
    "raw = mne.io.read_raw_brainvision(f'./EEG/{subj}.vhdr', verbose=False)\n",
    "raw"
   ]
  },
  {
   "cell_type": "markdown",
   "metadata": {},
   "source": [
    "#### Rename Channels"
   ]
  },
  {
   "cell_type": "code",
   "execution_count": null,
   "metadata": {},
   "outputs": [],
   "source": [
    "# Replace all channels with proper channel names instead of numbers\n",
    "channel_names_old = raw.ch_names\n",
    "channel_names_new = ['Fp1','Fz','F3','F7','FT9','FC5','FC1','C3','T7','TP9','CP5','CP1','Pz','P3','P7','O1','Oz','O2','P4','P8','TP10','CP6',\n",
    "                        'CP2','C4','T8','FT10','FC6','FC2','F4','F8','Fp2', 'AF7','AF3','AFz','F1','F5','FT7','FC3','C1','C5','TP7','CP3','P1','P5',\n",
    "                        'PO7','PO3','POz','PO4','PO8','P6','P2','CPz','CP4','TP8','C6','C2','FC4','FT8','F6','AF8','AF4','F2','FCz', 'Cz']\n",
    "channel_dict = dict(zip(channel_names_old, channel_names_new))\n",
    "mne.rename_channels(raw.info, mapping=channel_dict)"
   ]
  },
  {
   "cell_type": "markdown",
   "metadata": {},
   "source": [
    "#### Set Montage "
   ]
  },
  {
   "cell_type": "code",
   "execution_count": null,
   "metadata": {},
   "outputs": [],
   "source": [
    "easycap_montage = mne.channels.make_standard_montage('easycap-M1')\n",
    "\n",
    "# Use the preloaded montage\n",
    "raw.set_montage(easycap_montage)\n",
    "fig = raw.plot_sensors(show_names=True)\n",
    "\n",
    "raw.info"
   ]
  },
  {
   "cell_type": "markdown",
   "metadata": {},
   "source": [
    "#### Get Events"
   ]
  },
  {
   "cell_type": "code",
   "execution_count": null,
   "metadata": {},
   "outputs": [],
   "source": [
    "events_from_annot, event_dict = mne.events_from_annotations(raw)\n",
    "Counter(events_from_annot[:, 2])"
   ]
  },
  {
   "cell_type": "code",
   "execution_count": null,
   "metadata": {},
   "outputs": [],
   "source": [
    "# Delete New Segment (99999) marker\n",
    "events_from_annot = np.delete(events_from_annot, [0], 0)"
   ]
  },
  {
   "cell_type": "code",
   "execution_count": null,
   "metadata": {},
   "outputs": [],
   "source": [
    "print('Total number of markers: ', len(events_from_annot))"
   ]
  },
  {
   "cell_type": "code",
   "execution_count": null,
   "metadata": {},
   "outputs": [],
   "source": [
    "# Remove S2 markers that are repeated & take only the first one\n",
    "s_event_indices = np.where(events_from_annot[:, 2] == 2)\n",
    "\n",
    "indices_to_remove = []\n",
    "for i in range(len(s_event_indices[0])-1):\n",
    "    if s_event_indices[0][i] - s_event_indices[0][i+1] == -1:\n",
    "        indices_to_remove.append(s_event_indices[0][i+1])\n",
    "\n",
    "events = np.delete(events_from_annot, indices_to_remove, 0)"
   ]
  },
  {
   "cell_type": "code",
   "execution_count": null,
   "metadata": {},
   "outputs": [],
   "source": [
    "print('Number of S2 markers: ', len(s_event_indices[0]))\n",
    "print('Number of total markers: ', len(events))"
   ]
  },
  {
   "cell_type": "code",
   "execution_count": null,
   "metadata": {},
   "outputs": [],
   "source": [
    "events = np.delete(events, [0], 0)\n",
    "\n",
    "# Split events array into 3000 arrays of 6 elements each\n",
    "marker_blocks = np.split(events, np.where(events[:, 2] == 2)[0][0:]+1)\n",
    "del marker_blocks[-1]\n",
    "print(marker_blocks)\n",
    "print('Number of marker blocks: ', len(marker_blocks))"
   ]
  },
  {
   "cell_type": "code",
   "execution_count": null,
   "metadata": {},
   "outputs": [],
   "source": [
    "marker_dict = {\n",
    "                1015: '0', 1001: '1', 1002: '2', 1003: '3', 1004: '4', 1005: '5', \n",
    "                1006: '6', 1007: '7', 1008: '8', 1009: '9', 1012: 'std_', 1013: 'dev_'\n",
    "            }"
   ]
  },
  {
   "cell_type": "code",
   "execution_count": null,
   "metadata": {},
   "outputs": [],
   "source": [
    "markers = []\n",
    "\n",
    "for mb in marker_blocks:\n",
    "    marker_id_str = ''\n",
    "\n",
    "    # Remove 1011, 1012 and 1013 markers from each marker block\n",
    "    useless_markers = list(filter(lambda i: mb[:, 2][i] == 1011 or mb[:, 2][i] == 1012 or mb[:, 2][i] == 1013, range(len(mb))))\n",
    "    mb = np.delete(mb, useless_markers, 0)\n",
    "\n",
    "    # Get marker id digits from markers preceding S2\n",
    "    for i in range(len(mb)-1):\n",
    "        marker_id_str = marker_id_str + marker_dict.get(mb[:, 2][i])\n",
    "        \n",
    "    # Replace 2 with the proper marker id\n",
    "    mb[:, 2][-1] = marker_id_str\n",
    "    markers.append(mb[-1])"
   ]
  },
  {
   "cell_type": "code",
   "execution_count": null,
   "metadata": {},
   "outputs": [],
   "source": [
    "print('Number of total markers after cleaning: ', len(markers))"
   ]
  },
  {
   "cell_type": "markdown",
   "metadata": {},
   "source": [
    "#### Create Events Channel in Raw Data"
   ]
  },
  {
   "cell_type": "code",
   "execution_count": null,
   "metadata": {},
   "outputs": [],
   "source": [
    "# Create event channel\n",
    "raw.load_data()\n",
    "stim_data = np.zeros((1, len(raw.times)))\n",
    "\n",
    "# Add stimulus channel in 'raw' object's info class\n",
    "info = mne.create_info(['STI'], raw.info['sfreq'], ['stim'])\n",
    "stim_raw = mne.io.RawArray(stim_data, info)\n",
    "raw.add_channels([stim_raw], force_update_info=True)\n",
    "\n",
    "# Add events extracted from annotations to the stimulus channel\n",
    "raw.add_events(markers, stim_channel='STI')\n",
    "print(raw.info)"
   ]
  },
  {
   "cell_type": "markdown",
   "metadata": {},
   "source": [
    "#### Crop Raw Data to Remove Useless Parts"
   ]
  },
  {
   "cell_type": "code",
   "execution_count": null,
   "metadata": {},
   "outputs": [],
   "source": [
    "# Get event times\n",
    "first_event_time = mne.find_events(raw)[0][0]\n",
    "last_event_time = mne.find_events(raw)[-1][0]\n",
    "print(first_event_time, ' ', last_event_time)\n",
    "\n",
    "# Remove useless parts of raw EEG\n",
    "epoch_limits = [-0.1, 0.6]\n",
    "part_to_remove_from_beginning = (first_event_time - abs(epoch_limits[0]*500))/1000\n",
    "part_to_remove_from_end = (last_event_time + abs(epoch_limits[1]*5000))/1000\n",
    "raw.crop(part_to_remove_from_beginning, part_to_remove_from_end)"
   ]
  },
  {
   "cell_type": "markdown",
   "metadata": {},
   "source": [
    "#### Filtering"
   ]
  },
  {
   "cell_type": "code",
   "execution_count": null,
   "metadata": {},
   "outputs": [],
   "source": [
    "# Soft bandpass Butterworth filter \n",
    "iir_params = dict(  order=2, \n",
    "                    ftype='butter', \n",
    "                    output='sos'\n",
    "                )\n",
    "iir_params = mne.filter.construct_iir_filter(   iir_params, \n",
    "                                                f_pass=[0.1, 30], \n",
    "                                                f_stop=None, \n",
    "                                                sfreq=1000, \n",
    "                                                btype='bandpass', \n",
    "                                                return_copy=False\n",
    "                                            )\n",
    "raw.filter(0.1, 30, method='iir', iir_params=iir_params)\n",
    "\n",
    "# Notch filter\n",
    "raw.notch_filter(   freqs=np.arange(50, 251, 50), \n",
    "                    method='fir', \n",
    "                    fir_design='firwin2'\n",
    "                )"
   ]
  },
  {
   "cell_type": "markdown",
   "metadata": {},
   "source": [
    "#### Add Reference Channel (Cz)"
   ]
  },
  {
   "cell_type": "code",
   "execution_count": null,
   "metadata": {},
   "outputs": [],
   "source": [
    "mne.add_reference_channels(raw, 'Cz', copy=False)"
   ]
  },
  {
   "cell_type": "markdown",
   "metadata": {},
   "source": [
    "#### Re-reference electrodes"
   ]
  },
  {
   "cell_type": "code",
   "execution_count": null,
   "metadata": {},
   "outputs": [],
   "source": [
    "mne.set_eeg_reference(raw, ref_channels='average', projection=True)\n",
    "raw.apply_proj()"
   ]
  },
  {
   "cell_type": "markdown",
   "metadata": {},
   "source": [
    "#### Reset Montage after adding Cz"
   ]
  },
  {
   "cell_type": "code",
   "execution_count": null,
   "metadata": {},
   "outputs": [],
   "source": [
    "raw.set_montage(easycap_montage)"
   ]
  },
  {
   "cell_type": "markdown",
   "metadata": {},
   "source": [
    "#### Epoching"
   ]
  },
  {
   "cell_type": "code",
   "execution_count": null,
   "metadata": {},
   "outputs": [],
   "source": [
    "# Don't baseline correct before ICA\n",
    "epochs = mne.Epochs(raw, markers, tmin=-0.1, tmax=0.6, preload=True, baseline=None)"
   ]
  },
  {
   "cell_type": "markdown",
   "metadata": {},
   "source": [
    "#### Autoreject on All Epochs"
   ]
  },
  {
   "cell_type": "code",
   "execution_count": null,
   "metadata": {},
   "outputs": [],
   "source": [
    "ar = AutoReject(n_interpolate=[1, 2, 3, 4], random_state=11, n_jobs=1, verbose=True)\n",
    "ar.fit(epochs) \n",
    "epochs_ar, reject_log = ar.transform(epochs, return_log=True)"
   ]
  },
  {
   "cell_type": "markdown",
   "metadata": {},
   "source": [
    "#### ICA"
   ]
  },
  {
   "cell_type": "code",
   "execution_count": null,
   "metadata": {},
   "outputs": [],
   "source": [
    "ica = mne.preprocessing.ICA(random_state=99, verbose=False)\n",
    "ica.fit(epochs[~reject_log.bad_epochs])\n",
    "\n",
    "# Find which ICs match the EOG pattern\n",
    "eog_indices, eog_scores = ica.find_bads_eog(epochs[~reject_log.bad_epochs], ch_name='Fp1')\n",
    "print(f'**************** Automatically found EOG artifact ICA components: {eog_indices} ****************')\n",
    "\n",
    "# # Find which ICs match the EMG pattern\n",
    "# muscle_idx_auto, scores = ica.find_bads_muscle(epochs[~reject_log.bad_epochs])\n",
    "# print(f'**************** Automatically found muscle artifact ICA components: {muscle_idx_auto} ****************')\n",
    "\n",
    "ica.exclude = eog_indices\n",
    "\n",
    "ica.plot_overlay(epochs.average(), exclude=ica.exclude)\n",
    "ica.apply(epochs, exclude=ica.exclude)"
   ]
  },
  {
   "cell_type": "markdown",
   "metadata": {},
   "source": [
    "#### Baseline Correction"
   ]
  },
  {
   "cell_type": "code",
   "execution_count": null,
   "metadata": {},
   "outputs": [],
   "source": [
    "epochs.apply_baseline(baseline=(-0.1, 0), verbose=False)"
   ]
  },
  {
   "cell_type": "markdown",
   "metadata": {},
   "source": [
    "#### Autoreject on All Epochs"
   ]
  },
  {
   "cell_type": "code",
   "execution_count": null,
   "metadata": {},
   "outputs": [],
   "source": [
    "ar = AutoReject(n_interpolate=[1, 2, 3, 4], random_state=11, n_jobs=1, verbose=True)\n",
    "ar.fit(epochs) \n",
    "epochs_ar, reject_log = ar.transform(epochs, return_log=True)"
   ]
  },
  {
   "cell_type": "markdown",
   "metadata": {},
   "source": [
    "#### Save epochs to file"
   ]
  },
  {
   "cell_type": "code",
   "execution_count": null,
   "metadata": {},
   "outputs": [],
   "source": [
    "epochs_ar.save(f'./analysis/{subj}-epo.fif', overwrite=True)"
   ]
  },
  {
   "cell_type": "markdown",
   "metadata": {},
   "source": [
    "#### Create Evoked objects and save to file"
   ]
  },
  {
   "cell_type": "code",
   "execution_count": null,
   "metadata": {},
   "outputs": [],
   "source": [
    "# Create Evoked object from epochs (an Evoked object contains the average data over all epochs)\n",
    "evoked_standard = epochs_ar['1001'].average()\n",
    "evoked_neutral = epochs_ar['1002'].average()\n",
    "evoked_rise = epochs_ar['1003'].average()\n",
    "evoked_fall = epochs_ar['1004'].average()\n",
    "\n",
    "mne.write_evokeds('./analysis/'+subj+'-ave.fif', [evoked_standard, evoked_neutral, evoked_rise, evoked_fall], overwrite=True)\n",
    "\n",
    "evokeds = dict(standard=evoked_standard, neutral=evoked_neutral, rise=evoked_rise, fall=evoked_fall)"
   ]
  },
  {
   "cell_type": "markdown",
   "metadata": {},
   "source": [
    "#### Plot ERPs"
   ]
  },
  {
   "cell_type": "code",
   "execution_count": null,
   "metadata": {},
   "outputs": [],
   "source": [
    "def plot_channel_by_condition(channels=[]):\n",
    "    # Create PDF file in which to save all plots\n",
    "    with matplotlib.backends.backend_pdf.PdfPages('./analysis/'+subj+'-plots.pdf') as pdf:\n",
    "    \n",
    "        for channel in channels:\n",
    "            fig = mne.viz.plot_compare_evokeds(evokeds, picks=channel, combine=None, time_unit='ms', ylim=dict(eeg=[-10, 10]), invert_y=True,\n",
    "                                            colors=dict(standard='black', neutral='red', rise='blue', fall='green'), \n",
    "                                            styles={'standard': {'linewidth': 1}, 'neutral': {'linewidth': 1}, 'rise': {'linewidth': 1}, 'fall': {'linewidth': 1}})\n",
    "            # Save plot to PDF\n",
    "            pdf.savefig(fig[0])\n",
    "            plt.close()\n",
    "\n",
    "# Plot channels Fz, Pz, Oz, AFz, POz, CPz, FCz, Cz\n",
    "plot_channel_by_condition(channels=['Fz', 'Pz', 'Oz', 'AFz', 'POz', 'CPz', 'FCz', 'Cz'])"
   ]
  }
 ],
 "metadata": {
  "kernelspec": {
   "display_name": "Python 3.10.8 ('eelbrain')",
   "language": "python",
   "name": "python3"
  },
  "language_info": {
   "codemirror_mode": {
    "name": "ipython",
    "version": 3
   },
   "file_extension": ".py",
   "mimetype": "text/x-python",
   "name": "python",
   "nbconvert_exporter": "python",
   "pygments_lexer": "ipython3",
   "version": "3.10.8"
  },
  "vscode": {
   "interpreter": {
    "hash": "99ceff474ddd88436593420339e3865c681551bf0bfe21dd21eebadbb2bc8b2e"
   }
  }
 },
 "nbformat": 4,
 "nbformat_minor": 4
}
