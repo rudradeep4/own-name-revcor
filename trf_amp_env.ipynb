{
 "cells": [
  {
   "cell_type": "code",
   "execution_count": null,
   "metadata": {},
   "outputs": [],
   "source": [
    "import numpy as np\n",
    "import matplotlib.pyplot as plt\n",
    "import librosa\n",
    "from librosa import display\n",
    "from scipy.signal import hilbert\n",
    "import glob\n",
    "import mne\n",
    "from eelbrain import *\n",
    "import os\n",
    "import pandas as pd\n",
    "\n",
    "# configure(n_workers=False)"
   ]
  },
  {
   "cell_type": "markdown",
   "metadata": {},
   "source": [
    "#### Get envelope"
   ]
  },
  {
   "cell_type": "code",
   "execution_count": null,
   "metadata": {},
   "outputs": [],
   "source": [
    "def load_wav(file, sr):\n",
    "    stim, sr = librosa.load(file, sr=sr)\n",
    "    # librosa.display.waveshow(stim, sr=sr)\n",
    "\n",
    "    return stim"
   ]
  },
  {
   "cell_type": "code",
   "execution_count": null,
   "metadata": {},
   "outputs": [],
   "source": [
    "def compute_envelope(stim):\n",
    "    analytic_signal = hilbert(stim)\n",
    "    amplitude_envelope = np.abs(analytic_signal)\n",
    "\n",
    "    return amplitude_envelope"
   ]
  },
  {
   "cell_type": "code",
   "execution_count": null,
   "metadata": {},
   "outputs": [],
   "source": [
    "def pad_envelope(envelope, dtype):\n",
    "    e = np.pad(envelope, pad_width=(100, (701 - (len(envelope)+100))))\n",
    "    e = e.astype(dtype)\n",
    "\n",
    "    return e"
   ]
  },
  {
   "cell_type": "code",
   "execution_count": null,
   "metadata": {},
   "outputs": [],
   "source": [
    "def get_envelope(audio_file, sr):\n",
    "    stim = load_wav(audio_file, sr=sr)\n",
    "    amp_envelope = compute_envelope(stim)\n",
    "    envelope = pad_envelope(amp_envelope, '<f8')\n",
    "\n",
    "    return envelope"
   ]
  },
  {
   "cell_type": "markdown",
   "metadata": {},
   "source": [
    "#### Create dataset"
   ]
  },
  {
   "cell_type": "code",
   "execution_count": null,
   "metadata": {},
   "outputs": [],
   "source": [
    "epoch_files = sorted(glob.glob('./analysis/Revcor*-epo.fif'))\n",
    "log_files = sorted(glob.glob('./log/trials_subj*.csv'))\n",
    "\n",
    "es_dict = dict(zip(epoch_files, log_files))\n",
    "del es_dict['./analysis\\\\Revcor0019-epo.fif']"
   ]
  },
  {
   "cell_type": "code",
   "execution_count": null,
   "metadata": {},
   "outputs": [],
   "source": [
    "tstep = 1. / 1000\n",
    "n_times = 701\n",
    "time = UTS(0, tstep, n_times)\n",
    "\n",
    "sensor = Sensor.from_montage('easycap-M1')[:64]\n",
    "\n",
    "rows = []\n",
    "\n",
    "for k, v in es_dict.items():\n",
    "    subj = mne.read_epochs(k)\n",
    "    subj = subj.drop_channels('STI')\n",
    "\n",
    "    df = pd.read_csv(v, encoding='latin')\n",
    "    df = df[['stim_type_marker', 'stim_id_marker', 'sound_file']]\n",
    "    df = df[df['stim_id_marker'].isin(subj.selection)]   \n",
    "\n",
    "    for i in range(len(subj)):\n",
    "\n",
    "        subject = int(k[17:21])\n",
    "        \n",
    "        eeg = NDVar(subj[i].get_data()[0].T, (time, sensor), name='EEG', info={'unit': 'µV'})\n",
    "\n",
    "        sound = df['sound_file'].iloc[i]\n",
    "        envelope = NDVar(get_envelope(sound, sr=1000), (time,), name='envelope')\n",
    "\n",
    "        rows.append([subject, eeg, envelope]) \n",
    "\n",
    "\n",
    "ds = Dataset.from_caselist(['subject', 'eeg', 'envelope'], rows)\n",
    "print(ds.summary())"
   ]
  },
  {
   "attachments": {},
   "cell_type": "markdown",
   "metadata": {},
   "source": [
    "#### Save dataset"
   ]
  },
  {
   "cell_type": "code",
   "execution_count": null,
   "metadata": {},
   "outputs": [],
   "source": [
    "ds.save()"
   ]
  },
  {
   "attachments": {},
   "cell_type": "markdown",
   "metadata": {},
   "source": [
    "#### Load dataset"
   ]
  },
  {
   "cell_type": "code",
   "execution_count": null,
   "metadata": {},
   "outputs": [],
   "source": [
    "ds = load.unpickle('./datasets/dataset.pickle')"
   ]
  },
  {
   "cell_type": "markdown",
   "metadata": {},
   "source": [
    "#### Compute TRF"
   ]
  },
  {
   "cell_type": "code",
   "execution_count": null,
   "metadata": {},
   "outputs": [],
   "source": [
    "tstep = 1. / 1000\n",
    "n_times = 701\n",
    "time = UTS(0, tstep, n_times)\n",
    "\n",
    "sensor = Sensor.from_montage('easycap-M1')[:64]"
   ]
  },
  {
   "cell_type": "code",
   "execution_count": null,
   "metadata": {},
   "outputs": [],
   "source": [
    "fit = boosting('eeg', 'envelope', 0, 0.600, basis=0.050, ds=ds, delta=0.01, partitions=6)\n",
    "\n",
    "# Plot TRF\n",
    "p = plot.TopoButterfly(fit.h_scaled, w=6, h=2)\n",
    "p.set_time(.200)"
   ]
  },
  {
   "cell_type": "code",
   "execution_count": null,
   "metadata": {},
   "outputs": [],
   "source": [
    "# Save boosting result to predict eeg from envelope\n",
    "env2eeg_fit = save.pickle(fit)"
   ]
  },
  {
   "cell_type": "code",
   "execution_count": null,
   "metadata": {},
   "outputs": [],
   "source": [
    "# Predict EEG data from amplitude envelope\n",
    "x = NDVar(get_envelope('./sounds/subj6/julie_neutral.0736.pitch_gain.wav', sr=1000), (time,))\n",
    "y = convolve(res.h_scaled, x)\n",
    "\n",
    "plot.UTS(y, '.sensor')"
   ]
  },
  {
   "cell_type": "code",
   "execution_count": null,
   "metadata": {},
   "outputs": [],
   "source": [
    "plot.TopoButterfly(y, t=0.3)\n",
    "plot.TopoButterfly(ds['eeg'], t=0.3)"
   ]
  },
  {
   "attachments": {},
   "cell_type": "markdown",
   "metadata": {},
   "source": [
    "#### Test"
   ]
  },
  {
   "cell_type": "code",
   "execution_count": null,
   "metadata": {},
   "outputs": [],
   "source": [
    "tstep = 1. / 1000\n",
    "n_times = 701\n",
    "time = UTS(0, tstep, n_times)\n",
    "\n",
    "sensor = Sensor.from_montage('easycap-M1')[:64]"
   ]
  },
  {
   "cell_type": "code",
   "execution_count": null,
   "metadata": {},
   "outputs": [],
   "source": [
    "subj = mne.read_epochs('./analysis/Revcor0007-epo.fif')\n",
    "subj.drop_channels('STI')\n",
    "\n",
    "df = pd.read_csv('./log/trials_subj0007_211026_16.27.csv', encoding='latin')\n",
    "df = df[['stim_type_marker', 'stim_id_marker', 'sound_file']]\n",
    "df = df[df['stim_id_marker'].isin(subj.selection)]  \n",
    "\n",
    "rows = []\n",
    "\n",
    "for i in range(len(subj)):\n",
    "    \n",
    "    eeg = NDVar(subj[i].get_data()[0].T, (time, sensor), name='EEG', info={'unit': 'µV'})\n",
    "\n",
    "    sound = df['sound_file'].iloc[i]\n",
    "    envelope = NDVar(get_envelope(sound, sr=1000), (time,), name='envelope')\n",
    "\n",
    "    rows.append([eeg, envelope]) \n",
    "\n",
    "\n",
    "ds = Dataset.from_caselist(['eeg', 'envelope'], rows)\n",
    "print(ds.summary())"
   ]
  },
  {
   "cell_type": "code",
   "execution_count": null,
   "metadata": {},
   "outputs": [],
   "source": [
    "print(ds.summary())"
   ]
  },
  {
   "cell_type": "code",
   "execution_count": null,
   "metadata": {},
   "outputs": [],
   "source": [
    "fit = boosting('envelope', 'eeg', 0, 0.600, basis=0.050, ds=ds, partitions=2)"
   ]
  },
  {
   "cell_type": "code",
   "execution_count": null,
   "metadata": {},
   "outputs": [],
   "source": [
    "# Save boosting result to predict envelope from EEG\n",
    "eeg2env_fit = save.pickle(fit)"
   ]
  },
  {
   "cell_type": "code",
   "execution_count": null,
   "metadata": {},
   "outputs": [],
   "source": [
    "actual_envelope = NDVar(get_envelope('./sounds/subj6/julie_neutral.0736.pitch_gain.wav', sr=1000), (time,))\n",
    "plot.UTS(actual_envelope)"
   ]
  },
  {
   "cell_type": "code",
   "execution_count": null,
   "metadata": {},
   "outputs": [],
   "source": [
    "std_epoch = mne.read_epochs('./analysis/Revcor0006-epo.fif', verbose=False)['14']\n",
    "std_epoch.drop_channels('STI')"
   ]
  },
  {
   "cell_type": "code",
   "execution_count": null,
   "metadata": {},
   "outputs": [],
   "source": [
    "# Predict amplitude envelope from EEG data\n",
    "x = NDVar(std_epoch.get_data()[0].T, (time, sensor))\n",
    "y = convolve(fit.h_scaled, x, ds=ds)\n",
    "print(x)\n",
    "print(y)\n",
    "plot.UTS(y)"
   ]
  }
 ],
 "metadata": {
  "kernelspec": {
   "display_name": "Python 3.10.8 ('eelbrain')",
   "language": "python",
   "name": "python3"
  },
  "language_info": {
   "codemirror_mode": {
    "name": "ipython",
    "version": 3
   },
   "file_extension": ".py",
   "mimetype": "text/x-python",
   "name": "python",
   "nbconvert_exporter": "python",
   "pygments_lexer": "ipython3",
   "version": "3.10.8 | packaged by conda-forge | (main, Nov 22 2022, 08:16:53) [MSC v.1929 64 bit (AMD64)]"
  },
  "orig_nbformat": 4,
  "vscode": {
   "interpreter": {
    "hash": "99ceff474ddd88436593420339e3865c681551bf0bfe21dd21eebadbb2bc8b2e"
   }
  }
 },
 "nbformat": 4,
 "nbformat_minor": 2
}
